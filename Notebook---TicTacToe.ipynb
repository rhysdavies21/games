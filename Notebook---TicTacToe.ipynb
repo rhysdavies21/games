{
    "nbformat_minor": 1, 
    "cells": [
        {
            "source": "## Game\n\nimport itertools\n\ndef win(current_game):\n    \n    def all_same(l):\n        if l.count(l[0]) == len(l) and l[0 ]!= 0:\n            return True\n        else:\n            return False\n    \n    # Horizontal    \n    for row in game:\n        print(row)\n        if all_same(row):\n            print(f\"Player {row[0]} is the winner horizontally\")       \n            return True\n\n    # Diagonal a\n    diagsa = []\n    for col, row in enumerate(reversed(range(len(game)))):\n        diagsa.append(game[row][col])\n    if all_same(diagsa):\n        print(f\"Player {diagsa[0]} is the winner diagonally (/)!\")\n        return True\n        \n    # Diagonal b\n    diagsb = []\n    for ix in range(len(game)):\n        diagsb.append(game[ix][ix])\n    if all_same(diagsb):\n        print(f\"Player {diagsb[0]} is the winner diagonally (\\\\)!\")\n        return True\n        \n    # Vertical\n    for col in range(len(game)):\n        check = []\n        \n        for row in game:\n            check.append(row[col])\n        \n        if all_same(check):\n            print(f\"Player {check[0]} is the winner vertically (|)!\")\n            return True\n        \n    return False\n    \ndef game_board(game_map, player=0, row=0, column=0, just_display=False):\n    try:\n        if game_map[row][column] !=0:\n            print(\"Position occupied\")\n            return game_map, False\n        print(\"   \"+\"  \".join([str(i) for i in range(len(game_map))]))\n        if not just_display:\n            game_map[row][column] = player\n        for count, row in enumerate(game_map):\n            print(count, row)  \n        return game_map, True\n   \n    except IndexError as e1:\n        print(\"Error, did you input sensible number\", e1)\n        return game_map, False\n\n    except Exception as e2:\n        print(\"Error, exception\", e2)\n        return game_map, False\n\n    \nplay = True\nplayers = [1, 2]\nwhile play:\n    game_size = int(input(\"What size game would you like? \"))\n    game = [[0 for i in range(game_size)] for i in range(game_size)]\n    game_won = False\n    game, _ = game_board(game, just_display=True)\n    player_choice = itertools.cycle([1, 2])\n    while not game_won:\n        current_player = next(player_choice)\n        print(f\"Current player: {current_player}\")\n        played = False\n        \n        while not played:\n            column_choice = int(input(\"Choose column: \"))\n            row_choice = int(input(\"Choose row: \"))\n            game, played = game_board(game, current_player, row_choice, column_choice)\n        \n        if win(game):\n            game_won = True\n            again = input(\"Game over, play again? (y/n) \")\n            if again.lower() == \"y\":\n                print(\"restarting\")\n            elif again.lower() == \"n\":\n                print(\"Bye\")\n                play = False\n            else:\n                print(\"Not valid answer, so assume n\")\n                play = False", 
            "cell_type": "code", 
            "execution_count": null, 
            "outputs": [], 
            "metadata": {}
        }, 
        {
            "source": "", 
            "cell_type": "code", 
            "execution_count": null, 
            "outputs": [], 
            "metadata": {}
        }
    ], 
    "nbformat": 4, 
    "metadata": {
        "kernelspec": {
            "display_name": "Python 3.6", 
            "name": "python3", 
            "language": "python"
        }, 
        "language_info": {
            "mimetype": "text/x-python", 
            "nbconvert_exporter": "python", 
            "version": "3.6.8", 
            "name": "python", 
            "pygments_lexer": "ipython3", 
            "file_extension": ".py", 
            "codemirror_mode": {
                "version": 3, 
                "name": "ipython"
            }
        }
    }
}